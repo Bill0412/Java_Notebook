{
 "cells": [
  {
   "cell_type": "markdown",
   "metadata": {},
   "source": [
    "# Map"
   ]
  },
  {
   "cell_type": "markdown",
   "metadata": {},
   "source": [
    "## HashMap"
   ]
  },
  {
   "cell_type": "markdown",
   "metadata": {},
   "source": [
    "### Inline Initialization"
   ]
  },
  {
   "cell_type": "markdown",
   "metadata": {},
   "source": [
    "Map is an [Interface](https://docs.oracle.com/javase/tutorial/java/IandI/createinterface.html) that HashMap implements. It's more like an ISO standard, while HashMap is the real implementation, which may differ among companies."
   ]
  },
  {
   "cell_type": "code",
   "execution_count": 15,
   "metadata": {},
   "outputs": [
    {
     "data": {
      "text/plain": [
       "{100=C, 1=I, 500=D, 10=X, 50=L, 1000=M, 5=V}"
      ]
     },
     "execution_count": 15,
     "metadata": {},
     "output_type": "execute_result"
    }
   ],
   "source": [
    "Map<Integer, String> inlineMap = Map.of(1, \"I\", 5, \"V\", 10, \"X\", 50, \"L\", 100, \"C\", 500, \"D\", 1000, \"M\");\n",
    "inlineMap;"
   ]
  },
  {
   "cell_type": "markdown",
   "metadata": {},
   "source": [
    "### Add Items"
   ]
  },
  {
   "cell_type": "code",
   "execution_count": 1,
   "metadata": {},
   "outputs": [
    {
     "name": "stdout",
     "output_type": "stream",
     "text": [
      "{1=I, 50=L, 100=C, 500=D, 5=V, 1000=M, 10=X}\n"
     ]
    }
   ],
   "source": [
    "HashMap<Integer, String> map = new HashMap<Integer, String>();\n",
    "map.put(1, \"I\");\n",
    "map.put(5, \"V\");\n",
    "map.put(10, \"X\");\n",
    "map.put(50, \"L\");\n",
    "map.put(100, \"C\");\n",
    "map.put(500, \"D\");\n",
    "map.put(1000, \"M\");\n",
    "System.out.println(map);"
   ]
  },
  {
   "cell_type": "markdown",
   "metadata": {},
   "source": [
    "### Access an Item"
   ]
  },
  {
   "cell_type": "code",
   "execution_count": 6,
   "metadata": {},
   "outputs": [
    {
     "data": {
      "text/plain": [
       "D"
      ]
     },
     "execution_count": 6,
     "metadata": {},
     "output_type": "execute_result"
    }
   ],
   "source": [
    "map.get(500);"
   ]
  },
  {
   "cell_type": "markdown",
   "metadata": {},
   "source": [
    "### Remove an Item"
   ]
  },
  {
   "cell_type": "code",
   "execution_count": 7,
   "metadata": {},
   "outputs": [
    {
     "name": "stdout",
     "output_type": "stream",
     "text": [
      "{1=I, 50=L, 100=C, 500=D, 1000=M, 10=X}\n"
     ]
    }
   ],
   "source": [
    "map.remove(5);\n",
    "System.out.println(map);"
   ]
  },
  {
   "cell_type": "markdown",
   "metadata": {},
   "source": [
    "To remove all the items"
   ]
  },
  {
   "cell_type": "code",
   "execution_count": 8,
   "metadata": {},
   "outputs": [
    {
     "data": {
      "text/plain": [
       "{}"
      ]
     },
     "execution_count": 8,
     "metadata": {},
     "output_type": "execute_result"
    }
   ],
   "source": [
    "map.clear();\n",
    "map;"
   ]
  },
  {
   "cell_type": "markdown",
   "metadata": {},
   "source": [
    "### Traversal"
   ]
  },
  {
   "cell_type": "code",
   "execution_count": 10,
   "metadata": {},
   "outputs": [
    {
     "data": {
      "text/plain": [
       "{1=I, 50=L, 100=C, 500=D, 5=V, 1000=M, 10=X}"
      ]
     },
     "execution_count": 10,
     "metadata": {},
     "output_type": "execute_result"
    }
   ],
   "source": [
    "map.put(1, \"I\");\n",
    "map.put(5, \"V\");\n",
    "map.put(10, \"X\");\n",
    "map.put(50, \"L\");\n",
    "map.put(100, \"C\");\n",
    "map.put(500, \"D\");\n",
    "map.put(1000, \"M\");\n",
    "map;"
   ]
  },
  {
   "cell_type": "code",
   "execution_count": 11,
   "metadata": {},
   "outputs": [
    {
     "name": "stdout",
     "output_type": "stream",
     "text": [
      "I\n",
      "L\n",
      "C\n",
      "D\n",
      "V\n",
      "M\n",
      "X\n"
     ]
    }
   ],
   "source": [
    "for(Integer i: map.keySet()) {\n",
    "    System.out.println(map.get(i));\n",
    "}"
   ]
  },
  {
   "cell_type": "markdown",
   "metadata": {},
   "source": [
    "### Size"
   ]
  },
  {
   "cell_type": "code",
   "execution_count": 12,
   "metadata": {},
   "outputs": [
    {
     "data": {
      "text/plain": [
       "7"
      ]
     },
     "execution_count": 12,
     "metadata": {},
     "output_type": "execute_result"
    }
   ],
   "source": [
    "map.size();"
   ]
  },
  {
   "cell_type": "markdown",
   "metadata": {},
   "source": [
    "## References\n",
    "- Java HashMap: <https://www.w3schools.com/java/java_hashmap.asp>\n",
    "- Java Interface: <https://docs.oracle.com/javase/tutorial/java/IandI/createinterface.html>"
   ]
  }
 ],
 "metadata": {
  "kernelspec": {
   "display_name": "Java",
   "language": "java",
   "name": "java"
  },
  "language_info": {
   "codemirror_mode": "java",
   "file_extension": ".jshell",
   "mimetype": "text/x-java-source",
   "name": "Java",
   "pygments_lexer": "java",
   "version": "11.0.6+10-post-Ubuntu-1ubuntu118.04.1"
  }
 },
 "nbformat": 4,
 "nbformat_minor": 4
}
